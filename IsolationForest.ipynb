{
  "nbformat": 4,
  "nbformat_minor": 0,
  "metadata": {
    "colab": {
      "name": "Untitled41.ipynb",
      "version": "0.3.2",
      "provenance": [],
      "include_colab_link": true
    },
    "kernelspec": {
      "name": "python3",
      "display_name": "Python 3"
    }
  },
  "cells": [
    {
      "cell_type": "markdown",
      "metadata": {
        "id": "view-in-github",
        "colab_type": "text"
      },
      "source": [
        "<a href=\"https://colab.research.google.com/github/sabumjung/smartfactory/blob/master/IsolationForest.ipynb\" target=\"_parent\"><img src=\"https://colab.research.google.com/assets/colab-badge.svg\" alt=\"Open In Colab\"/></a>"
      ]
    },
    {
      "cell_type": "markdown",
      "metadata": {
        "id": "MDs04uMPfdtZ",
        "colab_type": "text"
      },
      "source": [
        "본 코드는 Isolation Forest를 이용한 Outlier을 자동으로 감지하기 위한 방법을 Python으로 구현한 내용입니다."
      ]
    },
    {
      "cell_type": "code",
      "metadata": {
        "id": "wtfDKC8XdojM",
        "colab_type": "code",
        "colab": {}
      },
      "source": [
        "import numpy as np\n",
        "import matplotlib.pyplot as plt\n",
        "from sklearn.ensemble import IsolationForest"
      ],
      "execution_count": 0,
      "outputs": []
    },
    {
      "cell_type": "code",
      "metadata": {
        "id": "2BEqyOzgd1fz",
        "colab_type": "code",
        "colab": {}
      },
      "source": [
        "rng = np.random.RandomState(42)"
      ],
      "execution_count": 0,
      "outputs": []
    },
    {
      "cell_type": "code",
      "metadata": {
        "id": "MbqtXaeFd3QC",
        "colab_type": "code",
        "colab": {}
      },
      "source": [
        "# Generate train data(훈련데이터 - 100개)\n",
        "X = 0.3 * rng.randn(100, 2)\n",
        "# X데이터를 갖고 +2, -2를 수행함\n",
        "# 대상 데이터를 행과행으로 붙이기 작업 수행\n",
        "X_train = np.r_[X + 2, X - 2]\n",
        "# 대상 데이터를 열과열로 붙이기 작업 수행 np.c_[a,b]\n",
        "\n",
        "# Generate test data(테스트데이터 - 20개)\n",
        "X = 0.3 * rng.randn(20, 2)\n",
        "X_test = np.r_[X + 2, X - 2]\n",
        "\n",
        "# Generate some abnormal data(이상치데이터 - 20개)\n",
        "X_outliers = rng.uniform(low=-4, high=4, size=(20, 2))"
      ],
      "execution_count": 0,
      "outputs": []
    },
    {
      "cell_type": "code",
      "metadata": {
        "id": "ZLHUgmwienga",
        "colab_type": "code",
        "colab": {
          "base_uri": "https://localhost:8080/",
          "height": 35
        },
        "outputId": "8c534eae-a715-400a-8bab-e9f710aa039a"
      },
      "source": [
        "X_train.shape, X_test.shape, X_outliers.shape, "
      ],
      "execution_count": 12,
      "outputs": [
        {
          "output_type": "execute_result",
          "data": {
            "text/plain": [
              "((200, 2), (40, 2), (20, 2))"
            ]
          },
          "metadata": {
            "tags": []
          },
          "execution_count": 12
        }
      ]
    },
    {
      "cell_type": "code",
      "metadata": {
        "id": "NMOI2Nqnf1t5",
        "colab_type": "code",
        "colab": {
          "base_uri": "https://localhost:8080/",
          "height": 35
        },
        "outputId": "0567b29b-643e-4c83-ab68-8283bdd784d9"
      },
      "source": [
        "min(X_train[0]), min(X_train[1]),max(X_train[0]), max(X_train[1])"
      ],
      "execution_count": 17,
      "outputs": [
        {
          "output_type": "execute_result",
          "data": {
            "text/plain": [
              "(1.9585207096486446, 2.1943065614302077, 2.14901424590337, 2.4569089569224074)"
            ]
          },
          "metadata": {
            "tags": []
          },
          "execution_count": 17
        }
      ]
    },
    {
      "cell_type": "code",
      "metadata": {
        "id": "ATdcAb3_ih5e",
        "colab_type": "code",
        "colab": {
          "base_uri": "https://localhost:8080/",
          "height": 282
        },
        "outputId": "0b897c5d-0dca-47a3-f8ce-714f5029ab67"
      },
      "source": [
        "import matplotlib.pyplot as plt\n",
        "fig, ax = plt.subplots()\n",
        "\n",
        "ax.boxplot([X_train[0], X_train[1], X_test[0], X_test[1]], sym=\"b*\")\n",
        "\n",
        "plt.title('Multiple box plots of tips on one Axes')\n",
        "plt.xticks([1, 2, 3, 4], \n",
        "           ['X_train[0]', 'X_train[1]','X_test[0]', 'X_test[1]'])\n",
        "plt.show()"
      ],
      "execution_count": 41,
      "outputs": [
        {
          "output_type": "display_data",
          "data": {
            "image/png": "[encoded data removed]",
            "text/plain": [
              "<Figure size 432x288 with 1 Axes>"
            ]
          },
          "metadata": {
            "tags": []
          }
        }
      ]
    },
    {
      "cell_type": "code",
      "metadata": {
        "id": "2D3RTyBpklyq",
        "colab_type": "code",
        "colab": {
          "base_uri": "https://localhost:8080/",
          "height": 282
        },
        "outputId": "5beab562-894b-4468-a960-cce0c86e4d3d"
      },
      "source": [
        "import matplotlib.pyplot as plt\n",
        "fig, ax = plt.subplots()\n",
        "\n",
        "ax.boxplot([X_outliers[0], X_outliers[1]], sym=\"b*\")\n",
        "\n",
        "plt.title('Multiple box plots of tips on one Axes')\n",
        "plt.xticks([1, 2], \n",
        "           ['X_outliers[0]', 'X_outliers[1]'])\n",
        "plt.show()"
      ],
      "execution_count": 42,
      "outputs": [
        {
          "output_type": "display_data",
          "data": {
            "image/png": "[encoded data removed]",
            "text/plain": [
              "<Figure size 432x288 with 1 Axes>"
            ]
          },
          "metadata": {
            "tags": []
          }
        }
      ]
    },
    {
      "cell_type": "code",
      "metadata": {
        "id": "OL34geYXd8N3",
        "colab_type": "code",
        "colab": {
          "base_uri": "https://localhost:8080/",
          "height": 107
        },
        "outputId": "77802002-09fa-4430-d5e7-cc868234ff29"
      },
      "source": [
        "# fit the model(모델생성)\n",
        "# max_samples의 값을 조정하게될 경우 outlier판정기준이 변경됨(작을수록 보다 tight한 구분이 됨)\n",
        "clf = IsolationForest(behaviour='new', max_samples=100, random_state=rng, contamination='auto')\n",
        "clf.fit(X_train)"
      ],
      "execution_count": 43,
      "outputs": [
        {
          "output_type": "execute_result",
          "data": {
            "text/plain": [
              "IsolationForest(behaviour='new', bootstrap=False, contamination='auto',\n",
              "                max_features=1.0, max_samples=100, n_estimators=100,\n",
              "                n_jobs=None,\n",
              "                random_state=<mtrand.RandomState object at 0x7f69b37a5630>,\n",
              "                verbose=0, warm_start=False)"
            ]
          },
          "metadata": {
            "tags": []
          },
          "execution_count": 43
        }
      ]
    },
    {
      "cell_type": "code",
      "metadata": {
        "id": "yxkg9M_dlCMf",
        "colab_type": "code",
        "colab": {}
      },
      "source": [
        "y_pred_train = clf.predict(X_train)\n",
        "y_pred_test = clf.predict(X_test)\n",
        "y_pred_outliers = clf.predict(X_outliers)"
      ],
      "execution_count": 0,
      "outputs": []
    },
    {
      "cell_type": "code",
      "metadata": {
        "id": "8Y3g1e56lYAo",
        "colab_type": "code",
        "colab": {
          "base_uri": "https://localhost:8080/",
          "height": 323
        },
        "outputId": "9af1cc50-07c4-4c20-f411-504322effa5c"
      },
      "source": [
        "y_pred_train, y_pred_test, y_pred_outliers"
      ],
      "execution_count": 47,
      "outputs": [
        {
          "output_type": "execute_result",
          "data": {
            "text/plain": [
              "(array([ 1, -1,  1, -1,  1,  1, -1, -1,  1, -1, -1,  1,  1,  1,  1, -1,  1,\n",
              "        -1, -1,  1,  1,  1, -1,  1, -1,  1,  1, -1,  1,  1,  1, -1, -1,  1,\n",
              "         1, -1,  1, -1,  1, -1,  1, -1,  1,  1,  1,  1,  1, -1,  1,  1,  1,\n",
              "         1,  1, -1,  1, -1, -1,  1,  1, -1,  1, -1, -1,  1,  1, -1,  1, -1,\n",
              "         1, -1,  1, -1,  1, -1,  1,  1,  1,  1, -1,  1,  1, -1, -1, -1,  1,\n",
              "         1,  1,  1,  1, -1,  1,  1,  1,  1, -1,  1,  1,  1,  1,  1,  1, -1,\n",
              "         1, -1,  1,  1, -1, -1,  1, -1, -1, -1,  1,  1,  1, -1,  1, -1, -1,\n",
              "        -1,  1,  1, -1,  1, -1,  1,  1, -1,  1,  1,  1, -1, -1,  1,  1, -1,\n",
              "        -1, -1,  1, -1,  1, -1,  1,  1,  1,  1,  1, -1,  1,  1, -1,  1,  1,\n",
              "        -1,  1, -1, -1,  1,  1, -1,  1, -1, -1, -1,  1, -1,  1, -1,  1, -1,\n",
              "         1, -1,  1, -1,  1,  1,  1,  1, -1, -1,  1, -1, -1, -1,  1, -1,  1,\n",
              "         1, -1, -1,  1,  1,  1,  1, -1,  1,  1,  1,  1,  1]),\n",
              " array([ 1, -1, -1,  1, -1, -1, -1,  1,  1,  1, -1, -1,  1,  1,  1,  1,  1,\n",
              "        -1, -1,  1,  1, -1, -1,  1, -1,  1, -1,  1,  1,  1, -1, -1,  1,  1,\n",
              "         1,  1,  1, -1, -1,  1]),\n",
              " array([-1, -1, -1, -1, -1, -1, -1, -1, -1, -1, -1, -1, -1, -1, -1, -1, -1,\n",
              "        -1, -1, -1]))"
            ]
          },
          "metadata": {
            "tags": []
          },
          "execution_count": 47
        }
      ]
    },
    {
      "cell_type": "code",
      "metadata": {
        "id": "mzXLVzLSlFqY",
        "colab_type": "code",
        "colab": {}
      },
      "source": [
        "# plot the line, the samples, and the nearest vectors to the plane\n",
        "xx, yy = np.meshgrid(np.linspace(-5, 5, 50), np.linspace(-5, 5, 50))\n",
        "Z = clf.decision_function(np.c_[xx.ravel(), yy.ravel()])\n",
        "Z = Z.reshape(xx.shape)"
      ],
      "execution_count": 0,
      "outputs": []
    },
    {
      "cell_type": "code",
      "metadata": {
        "id": "CQ1UDfX2lHXH",
        "colab_type": "code",
        "colab": {
          "base_uri": "https://localhost:8080/",
          "height": 281
        },
        "outputId": "f9c6e34a-6c23-460d-d027-2e39ca3f2f42"
      },
      "source": [
        "plt.title(\"IsolationForest\")\n",
        "plt.contourf(xx, yy, Z, cmap=plt.cm.Blues_r)\n",
        "\n",
        "b1 = plt.scatter(X_train[:, 0], X_train[:, 1], c='white', s=20, edgecolor='k')\n",
        "b2 = plt.scatter(X_test[:, 0], X_test[:, 1], c='green', s=20, edgecolor='k')\n",
        "c = plt.scatter(X_outliers[:, 0], X_outliers[:, 1], c='red', s=20, edgecolor='k')\n",
        "plt.axis('tight')\n",
        "plt.xlim((-5, 5))\n",
        "plt.ylim((-5, 5))\n",
        "plt.legend([b1, b2, c],\n",
        "           [\"training observations\", \"new regular observations\", \"new abnormal observations\"],\n",
        "           loc=\"upper left\")\n",
        "plt.show()\n"
      ],
      "execution_count": 46,
      "outputs": [
        {
          "output_type": "display_data",
          "data": {
            "image/png": "[encoded data removed]",
            "text/plain": [
              "<Figure size 432x288 with 1 Axes>"
            ]
          },
          "metadata": {
            "tags": []
          }
        }
      ]
    },
    {
      "cell_type": "code",
      "metadata": {
        "id": "cpWrgifblI8O",
        "colab_type": "code",
        "colab": {}
      },
      "source": [
        ""
      ],
      "execution_count": 0,
      "outputs": []
    }
  ]
}