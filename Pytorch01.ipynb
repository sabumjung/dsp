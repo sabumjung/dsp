{
  "nbformat": 4,
  "nbformat_minor": 0,
  "metadata": {
    "colab": {
      "name": "TensorFlow with GPU",
      "version": "0.3.2",
      "provenance": [],
      "collapsed_sections": [],
      "include_colab_link": true
    },
    "kernelspec": {
      "name": "python2",
      "display_name": "Python 2"
    },
    "accelerator": "GPU"
  },
  "cells": [
    {
      "cell_type": "markdown",
      "metadata": {
        "id": "view-in-github",
        "colab_type": "text"
      },
      "source": [
        "[View in Colaboratory](https://colab.research.google.com/github/sabumjung/smartfactory/blob/master/Pytorch01.ipynb)"
      ]
    },
    {
      "metadata": {
        "id": "hCznuBYvwWh9",
        "colab_type": "code",
        "colab": {
          "base_uri": "https://localhost:8080/",
          "height": 361
        },
        "outputId": "a552a8f9-7158-4d26-c1bc-b92ad4d5b106"
      },
      "cell_type": "code",
      "source": [
        "# Default Code\n",
        "!pip3 install torch torchvision\n",
        "\n",
        "# Code from Colab\n",
        "from os import path\n",
        "from wheel.pep425tags import get_abbr_impl, get_impl_ver, get_abi_tag\n",
        "platform = '{}{}-{}'.format(get_abbr_impl(), get_impl_ver(), get_abi_tag())\n",
        "\n",
        "accelerator = 'cu80' if path.exists('/opt/bin/nvidia-smi') else 'cpu'\n",
        "\n",
        "!pip install -q http://download.pytorch.org/whl/{accelerator}/torch-0.4.0-{platform}-linux_x86_64.whl torchvision\n",
        "import torch\n",
        "torch.__version__"
      ],
      "execution_count": 1,
      "outputs": [
        {
          "output_type": "stream",
          "text": [
            "Collecting torch\n",
            "\u001b[?25l  Downloading https://files.pythonhosted.org/packages/49/0e/e382bcf1a6ae8225f50b99cc26effa2d4cc6d66975ccf3fa9590efcbedce/torch-0.4.1-cp36-cp36m-manylinux1_x86_64.whl (519.5MB)\n",
            "\u001b[K    100% |████████████████████████████████| 519.5MB 29kB/s \n",
            "tcmalloc: large alloc 1073750016 bytes == 0x59e04000 @  0x7f9266c422a4 0x594e17 0x626104 0x51190a 0x4f5277 0x510c78 0x5119bd 0x4f5277 0x4f3338 0x510fb0 0x5119bd 0x4f5277 0x4f3338 0x510fb0 0x5119bd 0x4f5277 0x4f3338 0x510fb0 0x5119bd 0x4f6070 0x510c78 0x5119bd 0x4f5277 0x4f3338 0x510fb0 0x5119bd 0x4f6070 0x4f3338 0x510fb0 0x5119bd 0x4f6070\n",
            "\u001b[?25hCollecting torchvision\n",
            "\u001b[?25l  Downloading https://files.pythonhosted.org/packages/ca/0d/f00b2885711e08bd71242ebe7b96561e6f6d01fdb4b9dcf4d37e2e13c5e1/torchvision-0.2.1-py2.py3-none-any.whl (54kB)\n",
            "\u001b[K    100% |████████████████████████████████| 61kB 23.8MB/s \n",
            "\u001b[?25hRequirement already satisfied: six in /usr/local/lib/python3.6/dist-packages (from torchvision) (1.11.0)\n",
            "Requirement already satisfied: numpy in /usr/local/lib/python3.6/dist-packages (from torchvision) (1.14.6)\n",
            "Collecting pillow>=4.1.1 (from torchvision)\n",
            "\u001b[?25l  Downloading https://files.pythonhosted.org/packages/62/94/5430ebaa83f91cc7a9f687ff5238e26164a779cca2ef9903232268b0a318/Pillow-5.3.0-cp36-cp36m-manylinux1_x86_64.whl (2.0MB)\n",
            "\u001b[K    100% |████████████████████████████████| 2.0MB 3.8MB/s \n",
            "\u001b[?25hInstalling collected packages: torch, pillow, torchvision\n",
            "  Found existing installation: Pillow 4.0.0\n",
            "    Uninstalling Pillow-4.0.0:\n",
            "      Successfully uninstalled Pillow-4.0.0\n",
            "Successfully installed pillow-5.3.0 torch-0.4.1 torchvision-0.2.1\n"
          ],
          "name": "stdout"
        },
        {
          "output_type": "execute_result",
          "data": {
            "text/plain": [
              "'0.3.0.post4'"
            ]
          },
          "metadata": {
            "tags": []
          },
          "execution_count": 1
        }
      ]
    },
    {
      "metadata": {
        "id": "7vAw5khQxGzz",
        "colab_type": "code",
        "colab": {
          "base_uri": "https://localhost:8080/",
          "height": 316
        },
        "outputId": "abb0a401-a6fa-4ec5-8185-9b496950a935"
      },
      "cell_type": "code",
      "source": [
        "from __future__ import print_function\n",
        "import torch"
      ],
      "execution_count": 2,
      "outputs": [
        {
          "output_type": "error",
          "ename": "ImportError",
          "evalue": "ignored",
          "traceback": [
            "\u001b[0;31m\u001b[0m",
            "\u001b[0;31mImportError\u001b[0mTraceback (most recent call last)",
            "\u001b[0;32m<ipython-input-2-c92f3ea41741>\u001b[0m in \u001b[0;36m<module>\u001b[0;34m()\u001b[0m\n\u001b[1;32m      1\u001b[0m \u001b[0;32mfrom\u001b[0m \u001b[0m__future__\u001b[0m \u001b[0;32mimport\u001b[0m \u001b[0mprint_function\u001b[0m\u001b[0;34m\u001b[0m\u001b[0m\n\u001b[0;32m----> 2\u001b[0;31m \u001b[0;32mimport\u001b[0m \u001b[0mtorch\u001b[0m\u001b[0;34m\u001b[0m\u001b[0m\n\u001b[0m",
            "\u001b[0;31mImportError\u001b[0m: No module named torch",
            "",
            "\u001b[0;31m---------------------------------------------------------------------------\u001b[0;32m\nNOTE: If your import is failing due to a missing package, you can\nmanually install dependencies using either !pip or !apt.\n\nTo install torch, click the button below.\n\u001b[0;31m---------------------------------------------------------------------------\u001b[0m\n"
          ]
        }
      ]
    },
    {
      "metadata": {
        "id": "SXJiwfgmxXNR",
        "colab_type": "code",
        "colab": {
          "base_uri": "https://localhost:8080/",
          "height": 107
        },
        "outputId": "0f221940-4a91-4d30-e651-39eba971193c"
      },
      "cell_type": "code",
      "source": [
        "x=torch.rand(5,3)\n",
        "print(x)"
      ],
      "execution_count": 6,
      "outputs": [
        {
          "output_type": "stream",
          "text": [
            "tensor([[0.0057, 0.6974, 0.6973],\n",
            "        [0.3554, 0.9413, 0.8310],\n",
            "        [0.3778, 0.8993, 0.8159],\n",
            "        [0.9951, 0.8179, 0.6634],\n",
            "        [0.0504, 0.9575, 0.4142]])\n"
          ],
          "name": "stdout"
        }
      ]
    },
    {
      "metadata": {
        "id": "q2kWEwyexajx",
        "colab_type": "code",
        "colab": {
          "base_uri": "https://localhost:8080/",
          "height": 107
        },
        "outputId": "e2762511-cf92-4e95-acfb-6a5dc2aec3e1"
      },
      "cell_type": "code",
      "source": [
        "x=torch.zeros(5,3)\n",
        "print(x)"
      ],
      "execution_count": 7,
      "outputs": [
        {
          "output_type": "stream",
          "text": [
            "tensor([[0., 0., 0.],\n",
            "        [0., 0., 0.],\n",
            "        [0., 0., 0.],\n",
            "        [0., 0., 0.],\n",
            "        [0., 0., 0.]])\n"
          ],
          "name": "stdout"
        }
      ]
    },
    {
      "metadata": {
        "id": "0-i6F_nfxzDT",
        "colab_type": "code",
        "colab": {
          "base_uri": "https://localhost:8080/",
          "height": 35
        },
        "outputId": "bf0c34bf-5402-4640-c8b4-cfefe1fc2557"
      },
      "cell_type": "code",
      "source": [
        "x=torch.tensor([5.5, 3])\n",
        "print(x)"
      ],
      "execution_count": 8,
      "outputs": [
        {
          "output_type": "stream",
          "text": [
            "tensor([5.5000, 3.0000])\n"
          ],
          "name": "stdout"
        }
      ]
    },
    {
      "metadata": {
        "id": "_fgUvHdLx5Dg",
        "colab_type": "code",
        "colab": {}
      },
      "cell_type": "code",
      "source": [
        "\n"
      ],
      "execution_count": 0,
      "outputs": []
    },
    {
      "metadata": {
        "id": "_el5AaaryX4x",
        "colab_type": "code",
        "colab": {
          "base_uri": "https://localhost:8080/",
          "height": 264
        },
        "outputId": "78e05209-4929-4e31-a53a-872cf364430c"
      },
      "cell_type": "code",
      "source": [
        "# 이 코드는 CUDA가 사용 가능한 환경에서만 실행합니다.\n",
        "# ``torch.device`` 를 사용하여 tensor를 GPU 안팎으로 이동해보겠습니다.\n",
        "if torch.cuda.is_available():\n",
        "    device = torch.device(\"cuda\")          # CUDA 장치 객체(Device Object)로\n",
        "    y = torch.ones_like(x, device=device)  # GPU 상에 바로(directly) tensor를 생성하거나\n",
        "    x=x.to(\"cuda\")\n",
        "    x = x.to(device)                       # 단지 ``.to(\"cuda\")`` 라고만 작성하면 됩니다.\n",
        "    z = x + y\n",
        "    print(z)\n",
        "    print(z.to(\"cpu\", torch.double))       # ``.to`` 는 dtype도 함께 변경합니다!"
      ],
      "execution_count": 5,
      "outputs": [
        {
          "output_type": "error",
          "ename": "NameError",
          "evalue": "ignored",
          "traceback": [
            "\u001b[0;31m\u001b[0m",
            "\u001b[0;31mNameError\u001b[0mTraceback (most recent call last)",
            "\u001b[0;32m<ipython-input-5-e3db5e5aba6a>\u001b[0m in \u001b[0;36m<module>\u001b[0;34m()\u001b[0m\n\u001b[1;32m      1\u001b[0m \u001b[0;32mif\u001b[0m \u001b[0mtorch\u001b[0m\u001b[0;34m.\u001b[0m\u001b[0mcuda\u001b[0m\u001b[0;34m.\u001b[0m\u001b[0mis_available\u001b[0m\u001b[0;34m(\u001b[0m\u001b[0;34m)\u001b[0m\u001b[0;34m:\u001b[0m\u001b[0;34m\u001b[0m\u001b[0m\n\u001b[1;32m      2\u001b[0m     \u001b[0mdevice\u001b[0m \u001b[0;34m=\u001b[0m \u001b[0mtorch\u001b[0m\u001b[0;34m.\u001b[0m\u001b[0mdevice\u001b[0m\u001b[0;34m(\u001b[0m\u001b[0;34m\"cuda\"\u001b[0m\u001b[0;34m)\u001b[0m          \u001b[0;31m# CUDA 장치 객체(Device Object)로\u001b[0m\u001b[0;34m\u001b[0m\u001b[0m\n\u001b[0;32m----> 3\u001b[0;31m     \u001b[0my\u001b[0m \u001b[0;34m=\u001b[0m \u001b[0mtorch\u001b[0m\u001b[0;34m.\u001b[0m\u001b[0mones_like\u001b[0m\u001b[0;34m(\u001b[0m\u001b[0mx\u001b[0m\u001b[0;34m,\u001b[0m \u001b[0mdevice\u001b[0m\u001b[0;34m=\u001b[0m\u001b[0mdevice\u001b[0m\u001b[0;34m)\u001b[0m  \u001b[0;31m# GPU 상에 바로(directly) tensor를 생성하거나\u001b[0m\u001b[0;34m\u001b[0m\u001b[0m\n\u001b[0m\u001b[1;32m      4\u001b[0m     \u001b[0mx\u001b[0m\u001b[0;34m=\u001b[0m\u001b[0mx\u001b[0m\u001b[0;34m.\u001b[0m\u001b[0mto\u001b[0m\u001b[0;34m(\u001b[0m\u001b[0;34m\"cuda\"\u001b[0m\u001b[0;34m)\u001b[0m\u001b[0;34m\u001b[0m\u001b[0m\n\u001b[1;32m      5\u001b[0m     \u001b[0mx\u001b[0m \u001b[0;34m=\u001b[0m \u001b[0mx\u001b[0m\u001b[0;34m.\u001b[0m\u001b[0mto\u001b[0m\u001b[0;34m(\u001b[0m\u001b[0mdevice\u001b[0m\u001b[0;34m)\u001b[0m                       \u001b[0;31m# 단지 ``.to(\"cuda\")`` 라고만 작성하면 됩니다.\u001b[0m\u001b[0;34m\u001b[0m\u001b[0m\n",
            "\u001b[0;31mNameError\u001b[0m: name 'x' is not defined"
          ]
        }
      ]
    },
    {
      "metadata": {
        "id": "AxCcEbM-zCVu",
        "colab_type": "code",
        "colab": {
          "base_uri": "https://localhost:8080/",
          "height": 55
        },
        "outputId": "52dcea80-cb00-4f9f-95ad-1998fd534bd3"
      },
      "cell_type": "code",
      "source": [
        "# http://pytorch.org/\n",
        "from os.path import exists\n",
        "from wheel.pep425tags import get_abbr_impl, get_impl_ver, get_abi_tag\n",
        "platform = '{}{}-{}'.format(get_abbr_impl(), get_impl_ver(), get_abi_tag())\n",
        "cuda_output = !ldconfig -p|grep cudart.so|sed -e 's/.*\\.\\([0-9]*\\)\\.\\([0-9]*\\)$/cu\\1\\2/'\n",
        "accelerator = cuda_output[0] if exists('/dev/nvidia0') else 'cpu'\n",
        "\n",
        "!pip install -q http://download.pytorch.org/whl/{accelerator}/torch-0.4.1-{platform}-linux_x86_64.whl torchvision\n",
        "import torch"
      ],
      "execution_count": 3,
      "outputs": [
        {
          "output_type": "stream",
          "text": [
            "tcmalloc: large alloc 1073750016 bytes == 0x556521020000 @  0x7f32e07e82a4 0x5564c88abb68 0x5564c899792d 0x5564c88bf01a 0x5564c88c3d72 0x5564c88bc8ca 0x5564c88c424e 0x5564c88bc8ca 0x5564c88c424e 0x5564c88bc8ca 0x5564c88c424e 0x5564c88bc8ca 0x5564c88c47d3 0x5564c88bc8ca 0x5564c88c424e 0x5564c88bc8ca 0x5564c88c424e 0x5564c88c3d72 0x5564c88c3d72 0x5564c88bc8ca 0x5564c88c47d3 0x5564c88c3d72 0x5564c88bc8ca 0x5564c88c47d3 0x5564c88bc8ca 0x5564c88c47d3 0x5564c88bc8ca 0x5564c88c424e 0x5564c88bc8ca 0x5564c88bc1e9 0x5564c88ecbdf\n"
          ],
          "name": "stdout"
        }
      ]
    },
    {
      "metadata": {
        "id": "8fVPhPLazNdQ",
        "colab_type": "code",
        "colab": {
          "base_uri": "https://localhost:8080/",
          "height": 107
        },
        "outputId": "565c9f39-2fe0-44bc-8846-6b4b54f90a0e"
      },
      "cell_type": "code",
      "source": [
        "x=torch.empty(5,3)\n",
        "print(x)"
      ],
      "execution_count": 9,
      "outputs": [
        {
          "output_type": "stream",
          "text": [
            "tensor([[        nan,  3.0770e-41, -7.9990e+33],\n",
            "        [ 4.5715e-41, -6.0088e+36,  4.5715e-41],\n",
            "        [-5.6399e+36,  3.0770e-41, -5.6400e+36],\n",
            "        [ 3.0770e-41, -1.8264e+38,  4.5715e-41],\n",
            "        [-1.7860e+38,  4.5715e-41, -6.7535e-18]])\n"
          ],
          "name": "stdout"
        }
      ]
    },
    {
      "metadata": {
        "id": "xsxM9eth0E0g",
        "colab_type": "code",
        "colab": {
          "base_uri": "https://localhost:8080/",
          "height": 35
        },
        "outputId": "0f7353ec-4b9e-40cd-b530-12160d56e567"
      },
      "cell_type": "code",
      "source": [
        "print(x.size())"
      ],
      "execution_count": 10,
      "outputs": [
        {
          "output_type": "stream",
          "text": [
            "torch.Size([5, 3])\n"
          ],
          "name": "stdout"
        }
      ]
    },
    {
      "metadata": {
        "id": "Pwz_dxwX0RCA",
        "colab_type": "code",
        "colab": {
          "base_uri": "https://localhost:8080/",
          "height": 287
        },
        "outputId": "d8fbb084-e805-4c8b-bf7f-6bbbc0307a02"
      },
      "cell_type": "code",
      "source": [
        "y=torch.rand(5,3)\n",
        "print(x+y)"
      ],
      "execution_count": 11,
      "outputs": [
        {
          "output_type": "stream",
          "text": [
            "tensor([[                                          nan,\n",
            "                                                0.1102,\n",
            "              -7998964419122956070823989962866688.0000],\n",
            "        [                                       0.9535,\n",
            "           -6008795680744231098952128850615599104.0000,\n",
            "                                                0.2026],\n",
            "        [  -5639944850294622733539830125540933632.0000,\n",
            "                                                0.3534,\n",
            "           -5639975273909028211045466046417862656.0000],\n",
            "        [                                       0.3356,\n",
            "         -182636770369086952846472726288172843008.0000,\n",
            "                                                0.7622],\n",
            "        [-178601868932174904139014355906337964032.0000,\n",
            "                                                0.5763,\n",
            "                                                0.0298]])\n"
          ],
          "name": "stdout"
        }
      ]
    },
    {
      "metadata": {
        "id": "YAyttvwV0VSg",
        "colab_type": "code",
        "colab": {
          "base_uri": "https://localhost:8080/",
          "height": 287
        },
        "outputId": "59c113b3-5ea8-464a-dad5-b1c01f2c343e"
      },
      "cell_type": "code",
      "source": [
        "print(torch.add(x,y))"
      ],
      "execution_count": 12,
      "outputs": [
        {
          "output_type": "stream",
          "text": [
            "tensor([[                                          nan,\n",
            "                                                0.1102,\n",
            "              -7998964419122956070823989962866688.0000],\n",
            "        [                                       0.9535,\n",
            "           -6008795680744231098952128850615599104.0000,\n",
            "                                                0.2026],\n",
            "        [  -5639944850294622733539830125540933632.0000,\n",
            "                                                0.3534,\n",
            "           -5639975273909028211045466046417862656.0000],\n",
            "        [                                       0.3356,\n",
            "         -182636770369086952846472726288172843008.0000,\n",
            "                                                0.7622],\n",
            "        [-178601868932174904139014355906337964032.0000,\n",
            "                                                0.5763,\n",
            "                                                0.0298]])\n"
          ],
          "name": "stdout"
        }
      ]
    },
    {
      "metadata": {
        "id": "h38cIX6L0Zi_",
        "colab_type": "code",
        "colab": {
          "base_uri": "https://localhost:8080/",
          "height": 287
        },
        "outputId": "278b7014-4593-41e4-fe57-75c3ccb46c38"
      },
      "cell_type": "code",
      "source": [
        "result=torch.empty(5,3)\n",
        "torch.add(x,y,out=result)\n",
        "print(result)"
      ],
      "execution_count": 13,
      "outputs": [
        {
          "output_type": "stream",
          "text": [
            "tensor([[                                          nan,\n",
            "                                                0.1102,\n",
            "              -7998964419122956070823989962866688.0000],\n",
            "        [                                       0.9535,\n",
            "           -6008795680744231098952128850615599104.0000,\n",
            "                                                0.2026],\n",
            "        [  -5639944850294622733539830125540933632.0000,\n",
            "                                                0.3534,\n",
            "           -5639975273909028211045466046417862656.0000],\n",
            "        [                                       0.3356,\n",
            "         -182636770369086952846472726288172843008.0000,\n",
            "                                                0.7622],\n",
            "        [-178601868932174904139014355906337964032.0000,\n",
            "                                                0.5763,\n",
            "                                                0.0298]])\n"
          ],
          "name": "stdout"
        }
      ]
    },
    {
      "metadata": {
        "id": "_un2iVEo0mww",
        "colab_type": "code",
        "colab": {
          "base_uri": "https://localhost:8080/",
          "height": 287
        },
        "outputId": "c7f14f2b-13c6-4a85-8482-b70b9e12536b"
      },
      "cell_type": "code",
      "source": [
        "y.add_(x)\n",
        "print(y)"
      ],
      "execution_count": 14,
      "outputs": [
        {
          "output_type": "stream",
          "text": [
            "tensor([[                                          nan,\n",
            "                                                0.1102,\n",
            "              -7998964419122956070823989962866688.0000],\n",
            "        [                                       0.9535,\n",
            "           -6008795680744231098952128850615599104.0000,\n",
            "                                                0.2026],\n",
            "        [  -5639944850294622733539830125540933632.0000,\n",
            "                                                0.3534,\n",
            "           -5639975273909028211045466046417862656.0000],\n",
            "        [                                       0.3356,\n",
            "         -182636770369086952846472726288172843008.0000,\n",
            "                                                0.7622],\n",
            "        [-178601868932174904139014355906337964032.0000,\n",
            "                                                0.5763,\n",
            "                                                0.0298]])\n"
          ],
          "name": "stdout"
        }
      ]
    },
    {
      "metadata": {
        "id": "C1-ciX3K0rGh",
        "colab_type": "code",
        "colab": {
          "base_uri": "https://localhost:8080/",
          "height": 107
        },
        "outputId": "5f16ce8e-1c83-417a-f099-5eb43032b6d5"
      },
      "cell_type": "code",
      "source": [
        "print(x)\n"
      ],
      "execution_count": 15,
      "outputs": [
        {
          "output_type": "stream",
          "text": [
            "tensor([[        nan,  3.0770e-41, -7.9990e+33],\n",
            "        [ 4.5715e-41, -6.0088e+36,  4.5715e-41],\n",
            "        [-5.6399e+36,  3.0770e-41, -5.6400e+36],\n",
            "        [ 3.0770e-41, -1.8264e+38,  4.5715e-41],\n",
            "        [-1.7860e+38,  4.5715e-41, -6.7535e-18]])\n"
          ],
          "name": "stdout"
        }
      ]
    },
    {
      "metadata": {
        "id": "0NgwNF8J0uOP",
        "colab_type": "code",
        "colab": {
          "base_uri": "https://localhost:8080/",
          "height": 287
        },
        "outputId": "1b29db40-2e2c-474d-d48f-3e1eed217368"
      },
      "cell_type": "code",
      "source": [
        "print(y)"
      ],
      "execution_count": 16,
      "outputs": [
        {
          "output_type": "stream",
          "text": [
            "tensor([[                                          nan,\n",
            "                                                0.1102,\n",
            "              -7998964419122956070823989962866688.0000],\n",
            "        [                                       0.9535,\n",
            "           -6008795680744231098952128850615599104.0000,\n",
            "                                                0.2026],\n",
            "        [  -5639944850294622733539830125540933632.0000,\n",
            "                                                0.3534,\n",
            "           -5639975273909028211045466046417862656.0000],\n",
            "        [                                       0.3356,\n",
            "         -182636770369086952846472726288172843008.0000,\n",
            "                                                0.7622],\n",
            "        [-178601868932174904139014355906337964032.0000,\n",
            "                                                0.5763,\n",
            "                                                0.0298]])\n"
          ],
          "name": "stdout"
        }
      ]
    },
    {
      "metadata": {
        "id": "5enJvDXQ0vDi",
        "colab_type": "code",
        "colab": {}
      },
      "cell_type": "code",
      "source": [
        "y=torch.rand(5,3)"
      ],
      "execution_count": 0,
      "outputs": []
    },
    {
      "metadata": {
        "id": "qukGnE3W0yqQ",
        "colab_type": "code",
        "colab": {
          "base_uri": "https://localhost:8080/",
          "height": 107
        },
        "outputId": "e5dbd274-7d9b-4d69-9324-ba6e82dbe8c2"
      },
      "cell_type": "code",
      "source": [
        "print(y)"
      ],
      "execution_count": 18,
      "outputs": [
        {
          "output_type": "stream",
          "text": [
            "tensor([[0.6745, 0.6956, 0.0124],\n",
            "        [0.5206, 0.1195, 0.1006],\n",
            "        [0.8734, 0.9455, 0.5683],\n",
            "        [0.2445, 0.2003, 0.5710],\n",
            "        [0.9555, 0.1691, 0.9363]])\n"
          ],
          "name": "stdout"
        }
      ]
    },
    {
      "metadata": {
        "id": "qjxmIybA0zUv",
        "colab_type": "code",
        "colab": {
          "base_uri": "https://localhost:8080/",
          "height": 287
        },
        "outputId": "ffbe4f29-22db-418e-ed17-5961e873d947"
      },
      "cell_type": "code",
      "source": [
        "print(y.add_(x))"
      ],
      "execution_count": 19,
      "outputs": [
        {
          "output_type": "stream",
          "text": [
            "tensor([[                                          nan,\n",
            "                                                0.6956,\n",
            "              -7998964419122956070823989962866688.0000],\n",
            "        [                                       0.5206,\n",
            "           -6008795680744231098952128850615599104.0000,\n",
            "                                                0.1006],\n",
            "        [  -5639944850294622733539830125540933632.0000,\n",
            "                                                0.9455,\n",
            "           -5639975273909028211045466046417862656.0000],\n",
            "        [                                       0.2445,\n",
            "         -182636770369086952846472726288172843008.0000,\n",
            "                                                0.5710],\n",
            "        [-178601868932174904139014355906337964032.0000,\n",
            "                                                0.1691,\n",
            "                                                0.9363]])\n"
          ],
          "name": "stdout"
        }
      ]
    },
    {
      "metadata": {
        "id": "TIVep6IE06mg",
        "colab_type": "code",
        "colab": {
          "base_uri": "https://localhost:8080/",
          "height": 377
        },
        "outputId": "355c7b75-80db-4de9-a0cb-ed239195f572"
      },
      "cell_type": "code",
      "source": [
        "print(x)\n",
        "print(y)"
      ],
      "execution_count": 20,
      "outputs": [
        {
          "output_type": "stream",
          "text": [
            "tensor([[        nan,  3.0770e-41, -7.9990e+33],\n",
            "        [ 4.5715e-41, -6.0088e+36,  4.5715e-41],\n",
            "        [-5.6399e+36,  3.0770e-41, -5.6400e+36],\n",
            "        [ 3.0770e-41, -1.8264e+38,  4.5715e-41],\n",
            "        [-1.7860e+38,  4.5715e-41, -6.7535e-18]])\n",
            "tensor([[                                          nan,\n",
            "                                                0.6956,\n",
            "              -7998964419122956070823989962866688.0000],\n",
            "        [                                       0.5206,\n",
            "           -6008795680744231098952128850615599104.0000,\n",
            "                                                0.1006],\n",
            "        [  -5639944850294622733539830125540933632.0000,\n",
            "                                                0.9455,\n",
            "           -5639975273909028211045466046417862656.0000],\n",
            "        [                                       0.2445,\n",
            "         -182636770369086952846472726288172843008.0000,\n",
            "                                                0.5710],\n",
            "        [-178601868932174904139014355906337964032.0000,\n",
            "                                                0.1691,\n",
            "                                                0.9363]])\n"
          ],
          "name": "stdout"
        }
      ]
    },
    {
      "metadata": {
        "id": "IcgFca9J08ux",
        "colab_type": "code",
        "colab": {}
      },
      "cell_type": "code",
      "source": [
        "y=torch.empty(5,3)"
      ],
      "execution_count": 0,
      "outputs": []
    },
    {
      "metadata": {
        "id": "1Cgf8X3B0_YR",
        "colab_type": "code",
        "colab": {
          "base_uri": "https://localhost:8080/",
          "height": 107
        },
        "outputId": "1614248e-54f6-4af7-9fcc-0b29349b82a6"
      },
      "cell_type": "code",
      "source": [
        "print(y)\n"
      ],
      "execution_count": 22,
      "outputs": [
        {
          "output_type": "stream",
          "text": [
            "tensor([[        nan,  3.0770e-41, -7.9990e+33],\n",
            "        [ 4.5715e-41, -6.0088e+36,  4.5715e-41],\n",
            "        [-5.6399e+36,  3.0770e-41, -5.6400e+36],\n",
            "        [ 3.0770e-41, -4.5627e+14,  4.5715e-41],\n",
            "        [-6.8052e-18,  4.5715e-41, -6.8052e-18]])\n"
          ],
          "name": "stdout"
        }
      ]
    },
    {
      "metadata": {
        "id": "5JwftzW81AZQ",
        "colab_type": "code",
        "colab": {}
      },
      "cell_type": "code",
      "source": [
        "y=torch.rand(5,3)"
      ],
      "execution_count": 0,
      "outputs": []
    },
    {
      "metadata": {
        "id": "YBP88-0i1EVg",
        "colab_type": "code",
        "colab": {
          "base_uri": "https://localhost:8080/",
          "height": 287
        },
        "outputId": "f0909716-267c-4c4a-8a4c-776ee65795ce"
      },
      "cell_type": "code",
      "source": [
        "print(y.add_(x))"
      ],
      "execution_count": 24,
      "outputs": [
        {
          "output_type": "stream",
          "text": [
            "tensor([[                                          nan,\n",
            "                                                0.4667,\n",
            "              -7998964419122956070823989962866688.0000],\n",
            "        [                                       0.0878,\n",
            "           -6008795680744231098952128850615599104.0000,\n",
            "                                                0.4661],\n",
            "        [  -5639944850294622733539830125540933632.0000,\n",
            "                                                0.3954,\n",
            "           -5639975273909028211045466046417862656.0000],\n",
            "        [                                       0.0798,\n",
            "         -182636770369086952846472726288172843008.0000,\n",
            "                                                0.0543],\n",
            "        [-178601868932174904139014355906337964032.0000,\n",
            "                                                0.2125,\n",
            "                                                0.5490]])\n"
          ],
          "name": "stdout"
        }
      ]
    },
    {
      "metadata": {
        "id": "Cug0zEXg1GEA",
        "colab_type": "code",
        "colab": {
          "base_uri": "https://localhost:8080/",
          "height": 287
        },
        "outputId": "0ad43ae2-9a14-4198-b805-e5fa710fce06"
      },
      "cell_type": "code",
      "source": [
        "print(y)\n"
      ],
      "execution_count": 25,
      "outputs": [
        {
          "output_type": "stream",
          "text": [
            "tensor([[                                          nan,\n",
            "                                                0.4667,\n",
            "              -7998964419122956070823989962866688.0000],\n",
            "        [                                       0.0878,\n",
            "           -6008795680744231098952128850615599104.0000,\n",
            "                                                0.4661],\n",
            "        [  -5639944850294622733539830125540933632.0000,\n",
            "                                                0.3954,\n",
            "           -5639975273909028211045466046417862656.0000],\n",
            "        [                                       0.0798,\n",
            "         -182636770369086952846472726288172843008.0000,\n",
            "                                                0.0543],\n",
            "        [-178601868932174904139014355906337964032.0000,\n",
            "                                                0.2125,\n",
            "                                                0.5490]])\n"
          ],
          "name": "stdout"
        }
      ]
    },
    {
      "metadata": {
        "id": "94TtPq971IdA",
        "colab_type": "code",
        "colab": {
          "base_uri": "https://localhost:8080/",
          "height": 35
        },
        "outputId": "4d7454d6-fa7e-49e1-a2fd-a798ed400489"
      },
      "cell_type": "code",
      "source": [
        "print(x[:,1])"
      ],
      "execution_count": 26,
      "outputs": [
        {
          "output_type": "stream",
          "text": [
            "tensor([ 3.0770e-41, -6.0088e+36,  3.0770e-41, -1.8264e+38,  4.5715e-41])\n"
          ],
          "name": "stdout"
        }
      ]
    },
    {
      "metadata": {
        "id": "OjqZhFSI1Oyw",
        "colab_type": "code",
        "colab": {
          "base_uri": "https://localhost:8080/",
          "height": 35
        },
        "outputId": "8a95337a-6089-4b33-b581-dfacf37bfe58"
      },
      "cell_type": "code",
      "source": [
        "print(x[:,2])"
      ],
      "execution_count": 31,
      "outputs": [
        {
          "output_type": "stream",
          "text": [
            "tensor([-7.9990e+33,  4.5715e-41, -5.6400e+36,  4.5715e-41, -6.7535e-18])\n"
          ],
          "name": "stdout"
        }
      ]
    },
    {
      "metadata": {
        "id": "4Cu45zw91S4v",
        "colab_type": "code",
        "colab": {
          "base_uri": "https://localhost:8080/",
          "height": 35
        },
        "outputId": "322f88c0-8a0f-4ee8-a6a2-81cd9b846b3e"
      },
      "cell_type": "code",
      "source": [
        "print(x[:,0])"
      ],
      "execution_count": 34,
      "outputs": [
        {
          "output_type": "stream",
          "text": [
            "tensor([        nan,  4.5715e-41, -5.6399e+36,  3.0770e-41, -1.7860e+38])\n"
          ],
          "name": "stdout"
        }
      ]
    },
    {
      "metadata": {
        "id": "XpwlosoN1UjA",
        "colab_type": "code",
        "colab": {
          "base_uri": "https://localhost:8080/",
          "height": 71
        },
        "outputId": "3dd971fa-a385-48dd-fb52-8bd2d4cc3de0"
      },
      "cell_type": "code",
      "source": [
        "print(x[:3])"
      ],
      "execution_count": 30,
      "outputs": [
        {
          "output_type": "stream",
          "text": [
            "tensor([[        nan,  3.0770e-41, -7.9990e+33],\n",
            "        [ 4.5715e-41, -6.0088e+36,  4.5715e-41],\n",
            "        [-5.6399e+36,  3.0770e-41, -5.6400e+36]])\n"
          ],
          "name": "stdout"
        }
      ]
    },
    {
      "metadata": {
        "id": "mTzwyUiY1YBQ",
        "colab_type": "code",
        "colab": {
          "base_uri": "https://localhost:8080/",
          "height": 35
        },
        "outputId": "d0bdb574-d49f-47b1-96a7-8832f510a697"
      },
      "cell_type": "code",
      "source": [
        "a=torch.ones(5)\n",
        "print(a)"
      ],
      "execution_count": 35,
      "outputs": [
        {
          "output_type": "stream",
          "text": [
            "tensor([1., 1., 1., 1., 1.])\n"
          ],
          "name": "stdout"
        }
      ]
    },
    {
      "metadata": {
        "id": "wFJALEXr1wWv",
        "colab_type": "code",
        "colab": {
          "base_uri": "https://localhost:8080/",
          "height": 35
        },
        "outputId": "decd4700-d169-420d-9b2f-b48c4d06d4ae"
      },
      "cell_type": "code",
      "source": [
        "b=a.numpy()\n",
        "print(b)"
      ],
      "execution_count": 38,
      "outputs": [
        {
          "output_type": "stream",
          "text": [
            "[1. 1. 1. 1. 1.]\n"
          ],
          "name": "stdout"
        }
      ]
    },
    {
      "metadata": {
        "id": "FHTdMQYe1yo_",
        "colab_type": "code",
        "colab": {
          "base_uri": "https://localhost:8080/",
          "height": 53
        },
        "outputId": "944b0eb5-83b7-4b90-e8ab-7001f2e9bbb4"
      },
      "cell_type": "code",
      "source": [
        "a.add_(1)\n",
        "print(a)\n",
        "print(b)"
      ],
      "execution_count": 39,
      "outputs": [
        {
          "output_type": "stream",
          "text": [
            "tensor([2., 2., 2., 2., 2.])\n",
            "[2. 2. 2. 2. 2.]\n"
          ],
          "name": "stdout"
        }
      ]
    },
    {
      "metadata": {
        "id": "AJ3p70A61zcv",
        "colab_type": "code",
        "colab": {
          "base_uri": "https://localhost:8080/",
          "height": 53
        },
        "outputId": "328d20ea-6c0e-4f2f-c5e2-0e466aea431a"
      },
      "cell_type": "code",
      "source": [
        "import numpy as np\n",
        "a=np.ones(5)\n",
        "b=torch.from_numpy(a)\n",
        "np.add(a,1,out=a)\n",
        "print(a)\n",
        "print(b)"
      ],
      "execution_count": 40,
      "outputs": [
        {
          "output_type": "stream",
          "text": [
            "[2. 2. 2. 2. 2.]\n",
            "tensor([2., 2., 2., 2., 2.], dtype=torch.float64)\n"
          ],
          "name": "stdout"
        }
      ]
    },
    {
      "metadata": {
        "id": "4z4cSd0k2Bev",
        "colab_type": "code",
        "colab": {
          "base_uri": "https://localhost:8080/",
          "height": 35
        },
        "outputId": "61ec7ad1-a551-4c07-efdf-d9a46a72b580"
      },
      "cell_type": "code",
      "source": [
        "c=np.zeros(5)\n",
        "print(c)"
      ],
      "execution_count": 41,
      "outputs": [
        {
          "output_type": "stream",
          "text": [
            "[0. 0. 0. 0. 0.]\n"
          ],
          "name": "stdout"
        }
      ]
    },
    {
      "metadata": {
        "id": "BYn0Ybf75-tD",
        "colab_type": "code",
        "colab": {
          "base_uri": "https://localhost:8080/",
          "height": 35
        },
        "outputId": "4a03ee65-8c00-450e-ad1e-c66e58da6d2e"
      },
      "cell_type": "code",
      "source": [
        "d=torch.from_numpy(c)\n",
        "print(c)"
      ],
      "execution_count": 42,
      "outputs": [
        {
          "output_type": "stream",
          "text": [
            "[0. 0. 0. 0. 0.]\n"
          ],
          "name": "stdout"
        }
      ]
    },
    {
      "metadata": {
        "id": "yTMBY7EZ6C5E",
        "colab_type": "code",
        "colab": {
          "base_uri": "https://localhost:8080/",
          "height": 35
        },
        "outputId": "7986552a-efce-4473-c84a-39dd0235c278"
      },
      "cell_type": "code",
      "source": [
        "np.add(d,3,out=c)"
      ],
      "execution_count": 44,
      "outputs": [
        {
          "output_type": "execute_result",
          "data": {
            "text/plain": [
              "array([3., 3., 3., 3., 3.])"
            ]
          },
          "metadata": {
            "tags": []
          },
          "execution_count": 44
        }
      ]
    },
    {
      "metadata": {
        "id": "SqVQF_pz6HIj",
        "colab_type": "code",
        "colab": {
          "base_uri": "https://localhost:8080/",
          "height": 35
        },
        "outputId": "f4c8df65-ca85-4513-cc94-d0216f86ba27"
      },
      "cell_type": "code",
      "source": [
        "print(c)"
      ],
      "execution_count": 45,
      "outputs": [
        {
          "output_type": "stream",
          "text": [
            "[3. 3. 3. 3. 3.]\n"
          ],
          "name": "stdout"
        }
      ]
    },
    {
      "metadata": {
        "id": "ytmYVGM26LAw",
        "colab_type": "code",
        "colab": {
          "base_uri": "https://localhost:8080/",
          "height": 35
        },
        "outputId": "29a420c0-4cfb-454b-d286-2153756416ff"
      },
      "cell_type": "code",
      "source": [
        "print(d)"
      ],
      "execution_count": 46,
      "outputs": [
        {
          "output_type": "stream",
          "text": [
            "tensor([3., 3., 3., 3., 3.], dtype=torch.float64)\n"
          ],
          "name": "stdout"
        }
      ]
    },
    {
      "metadata": {
        "id": "xYV-udVq6fSO",
        "colab_type": "code",
        "colab": {
          "base_uri": "https://localhost:8080/",
          "height": 35
        },
        "outputId": "aa8c6f7b-99bb-4470-a818-65bf9b8a8407"
      },
      "cell_type": "code",
      "source": [
        "print(d.numpy())"
      ],
      "execution_count": 47,
      "outputs": [
        {
          "output_type": "stream",
          "text": [
            "[3. 3. 3. 3. 3.]\n"
          ],
          "name": "stdout"
        }
      ]
    },
    {
      "metadata": {
        "id": "y-sNCOuz6js-",
        "colab_type": "code",
        "colab": {
          "base_uri": "https://localhost:8080/",
          "height": 35
        },
        "outputId": "375cf00f-fefb-4e98-b7b4-a15f5f4dbf7d"
      },
      "cell_type": "code",
      "source": [
        "print(torch.from_numpy(c))"
      ],
      "execution_count": 49,
      "outputs": [
        {
          "output_type": "stream",
          "text": [
            "tensor([3., 3., 3., 3., 3.], dtype=torch.float64)\n"
          ],
          "name": "stdout"
        }
      ]
    },
    {
      "metadata": {
        "id": "v5UVvD8D6pAs",
        "colab_type": "code",
        "colab": {
          "base_uri": "https://localhost:8080/",
          "height": 35
        },
        "outputId": "3f1eb23c-31f8-4512-ce8f-ab5b55c324e8"
      },
      "cell_type": "code",
      "source": [
        "if torch.cuda.is_available():\n",
        "  print(1)"
      ],
      "execution_count": 50,
      "outputs": [
        {
          "output_type": "stream",
          "text": [
            "1\n"
          ],
          "name": "stdout"
        }
      ]
    },
    {
      "metadata": {
        "id": "MQboy9hRDxxU",
        "colab_type": "code",
        "colab": {
          "base_uri": "https://localhost:8080/",
          "height": 35
        },
        "outputId": "1f8b3aaa-3685-4a5b-8ce5-304c83b098ca"
      },
      "cell_type": "code",
      "source": [
        "device=torch.device(\"cuda\")\n",
        "print(device)"
      ],
      "execution_count": 51,
      "outputs": [
        {
          "output_type": "stream",
          "text": [
            "cuda\n"
          ],
          "name": "stdout"
        }
      ]
    },
    {
      "metadata": {
        "id": "3jWfW4PYD1dE",
        "colab_type": "code",
        "colab": {}
      },
      "cell_type": "code",
      "source": [
        "y=torch.ones_like(x, device=device)"
      ],
      "execution_count": 0,
      "outputs": []
    },
    {
      "metadata": {
        "id": "y2-wwARND49z",
        "colab_type": "code",
        "colab": {}
      },
      "cell_type": "code",
      "source": [
        "x=torch.ones(5,3)\n",
        "x=x.to(device)"
      ],
      "execution_count": 0,
      "outputs": []
    },
    {
      "metadata": {
        "id": "F-oqI5y6EA5D",
        "colab_type": "code",
        "colab": {
          "base_uri": "https://localhost:8080/",
          "height": 197
        },
        "outputId": "fe5ea575-5e09-480e-e3c1-91b2b15f9be4"
      },
      "cell_type": "code",
      "source": [
        "print(y)\n",
        "print(x)\n"
      ],
      "execution_count": 56,
      "outputs": [
        {
          "output_type": "stream",
          "text": [
            "tensor([[1., 1., 1.],\n",
            "        [1., 1., 1.],\n",
            "        [1., 1., 1.],\n",
            "        [1., 1., 1.],\n",
            "        [1., 1., 1.]], device='cuda:0')\n",
            "tensor([[1., 1., 1.],\n",
            "        [1., 1., 1.],\n",
            "        [1., 1., 1.],\n",
            "        [1., 1., 1.],\n",
            "        [1., 1., 1.]], device='cuda:0')\n"
          ],
          "name": "stdout"
        }
      ]
    },
    {
      "metadata": {
        "id": "xPdbdmZLEDY1",
        "colab_type": "code",
        "colab": {}
      },
      "cell_type": "code",
      "source": [
        "z=x+y"
      ],
      "execution_count": 0,
      "outputs": []
    },
    {
      "metadata": {
        "id": "DXYRKpXsEKik",
        "colab_type": "code",
        "colab": {
          "base_uri": "https://localhost:8080/",
          "height": 197
        },
        "outputId": "15ef4d11-3b42-41b9-ee94-7d1f26a1269e"
      },
      "cell_type": "code",
      "source": [
        "print(z)\n",
        "print(z.to(\"cpu\", torch.double))"
      ],
      "execution_count": 58,
      "outputs": [
        {
          "output_type": "stream",
          "text": [
            "tensor([[2., 2., 2.],\n",
            "        [2., 2., 2.],\n",
            "        [2., 2., 2.],\n",
            "        [2., 2., 2.],\n",
            "        [2., 2., 2.]], device='cuda:0')\n",
            "tensor([[2., 2., 2.],\n",
            "        [2., 2., 2.],\n",
            "        [2., 2., 2.],\n",
            "        [2., 2., 2.],\n",
            "        [2., 2., 2.]], dtype=torch.float64)\n"
          ],
          "name": "stdout"
        }
      ]
    },
    {
      "metadata": {
        "id": "yuzd3YvIEOYD",
        "colab_type": "code",
        "colab": {}
      },
      "cell_type": "code",
      "source": [
        ""
      ],
      "execution_count": 0,
      "outputs": []
    }
  ]
}