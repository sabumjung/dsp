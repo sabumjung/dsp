{
  "nbformat": 4,
  "nbformat_minor": 0,
  "metadata": {
    "colab": {
      "name": "TensorFlow with GPU",
      "version": "0.3.2",
      "provenance": [],
      "collapsed_sections": [],
      "include_colab_link": true
    },
    "kernelspec": {
      "name": "python2",
      "display_name": "Python 2"
    },
    "accelerator": "GPU"
  },
  "cells": [
    {
      "cell_type": "markdown",
      "metadata": {
        "id": "view-in-github",
        "colab_type": "text"
      },
      "source": [
        "[View in Colaboratory](https://colab.research.google.com/github/sabumjung/smartfactory/blob/master/Pytorch01.ipynb)"
      ]
    },
    {
      "metadata": {
        "id": "hCznuBYvwWh9",
        "colab_type": "code",
        "colab": {
          "base_uri": "https://localhost:8080/",
          "height": 361
        },
        "outputId": "a552a8f9-7158-4d26-c1bc-b92ad4d5b106"
      },
      "cell_type": "code",
      "source": [
        "# Default Code\n",
        "!pip3 install torch torchvision\n",
        "\n",
        "# Code from Colab\n",
        "from os import path\n",
        "from wheel.pep425tags import get_abbr_impl, get_impl_ver, get_abi_tag\n",
        "platform = '{}{}-{}'.format(get_abbr_impl(), get_impl_ver(), get_abi_tag())\n",
        "\n",
        "accelerator = 'cu80' if path.exists('/opt/bin/nvidia-smi') else 'cpu'\n",
        "\n",
        "!pip install -q http://download.pytorch.org/whl/{accelerator}/torch-0.4.0-{platform}-linux_x86_64.whl torchvision\n",
        "import torch\n",
        "torch.__version__"
      ],
      "execution_count": 1,
      "outputs": [
        {
          "output_type": "stream",
          "text": [
            "Collecting torch\n",
            "\u001b[?25l  Downloading https://files.pythonhosted.org/packages/49/0e/e382bcf1a6ae8225f50b99cc26effa2d4cc6d66975ccf3fa9590efcbedce/torch-0.4.1-cp36-cp36m-manylinux1_x86_64.whl (519.5MB)\n",
            "\u001b[K    100% |████████████████████████████████| 519.5MB 29kB/s \n",
            "tcmalloc: large alloc 1073750016 bytes == 0x59e04000 @  0x7f9266c422a4 0x594e17 0x626104 0x51190a 0x4f5277 0x510c78 0x5119bd 0x4f5277 0x4f3338 0x510fb0 0x5119bd 0x4f5277 0x4f3338 0x510fb0 0x5119bd 0x4f5277 0x4f3338 0x510fb0 0x5119bd 0x4f6070 0x510c78 0x5119bd 0x4f5277 0x4f3338 0x510fb0 0x5119bd 0x4f6070 0x4f3338 0x510fb0 0x5119bd 0x4f6070\n",
            "\u001b[?25hCollecting torchvision\n",
            "\u001b[?25l  Downloading https://files.pythonhosted.org/packages/ca/0d/f00b2885711e08bd71242ebe7b96561e6f6d01fdb4b9dcf4d37e2e13c5e1/torchvision-0.2.1-py2.py3-none-any.whl (54kB)\n",
            "\u001b[K    100% |████████████████████████████████| 61kB 23.8MB/s \n",
            "\u001b[?25hRequirement already satisfied: six in /usr/local/lib/python3.6/dist-packages (from torchvision) (1.11.0)\n",
            "Requirement already satisfied: numpy in /usr/local/lib/python3.6/dist-packages (from torchvision) (1.14.6)\n",
            "Collecting pillow>=4.1.1 (from torchvision)\n",
            "\u001b[?25l  Downloading https://files.pythonhosted.org/packages/62/94/5430ebaa83f91cc7a9f687ff5238e26164a779cca2ef9903232268b0a318/Pillow-5.3.0-cp36-cp36m-manylinux1_x86_64.whl (2.0MB)\n",
            "\u001b[K    100% |████████████████████████████████| 2.0MB 3.8MB/s \n",
            "\u001b[?25hInstalling collected packages: torch, pillow, torchvision\n",
            "  Found existing installation: Pillow 4.0.0\n",
            "    Uninstalling Pillow-4.0.0:\n",
            "      Successfully uninstalled Pillow-4.0.0\n",
            "Successfully installed pillow-5.3.0 torch-0.4.1 torchvision-0.2.1\n"
          ],
          "name": "stdout"
        },
        {
          "output_type": "execute_result",
          "data": {
            "text/plain": [
              "'0.3.0.post4'"
            ]
          },
          "metadata": {
            "tags": []
          },
          "execution_count": 1
        }
      ]
    },
    {
      "metadata": {
        "id": "7vAw5khQxGzz",
        "colab_type": "code",
        "colab": {}
      },
      "cell_type": "code",
      "source": [
        "from __future__ import print_function\n",
        "import torch"
      ],
      "execution_count": 0,
      "outputs": []
    },
    {
      "metadata": {
        "id": "SXJiwfgmxXNR",
        "colab_type": "code",
        "colab": {
          "base_uri": "https://localhost:8080/",
          "height": 377
        },
        "outputId": "5e8d9390-f6c9-454e-e090-81ee84903d3e"
      },
      "cell_type": "code",
      "source": [
        "x=torch.empty(5,3)\n",
        "print(x)\n",
        "x=torch.rand(5,3)\n",
        "print(x)\n",
        "x=torch.zeros(5,3)\n",
        "print(x)\n",
        "x=torch.ones(5,3)\n",
        "print(x)"
      ],
      "execution_count": 60,
      "outputs": [
        {
          "output_type": "stream",
          "text": [
            "tensor([[ 4.1389e+00,  3.0771e-41, -7.9990e+33],\n",
            "        [ 4.5715e-41, -6.0088e+36,  4.5715e-41],\n",
            "        [-5.6399e+36,  3.0770e-41, -5.6400e+36],\n",
            "        [ 3.0770e-41, -5.6400e+36,  3.0770e-41],\n",
            "        [-5.6425e+36,  3.0770e-41, -6.4641e-18]])\n",
            "tensor([[0.7767, 0.6888, 0.6889],\n",
            "        [0.2603, 0.3667, 0.6031],\n",
            "        [0.8667, 0.3058, 0.8026],\n",
            "        [0.3674, 0.7536, 0.6809],\n",
            "        [0.8659, 0.5169, 0.8942]])\n",
            "tensor([[0., 0., 0.],\n",
            "        [0., 0., 0.],\n",
            "        [0., 0., 0.],\n",
            "        [0., 0., 0.],\n",
            "        [0., 0., 0.]])\n",
            "tensor([[1., 1., 1.],\n",
            "        [1., 1., 1.],\n",
            "        [1., 1., 1.],\n",
            "        [1., 1., 1.],\n",
            "        [1., 1., 1.]])\n"
          ],
          "name": "stdout"
        }
      ]
    },
    {
      "metadata": {
        "id": "0-i6F_nfxzDT",
        "colab_type": "code",
        "colab": {
          "base_uri": "https://localhost:8080/",
          "height": 35
        },
        "outputId": "5a402c75-9746-4502-d77c-104c03733efd"
      },
      "cell_type": "code",
      "source": [
        "x=torch.tensor([5.5, 3])\n",
        "print(x)"
      ],
      "execution_count": 62,
      "outputs": [
        {
          "output_type": "stream",
          "text": [
            "tensor([5.5000, 3.0000])\n"
          ],
          "name": "stdout"
        }
      ]
    },
    {
      "metadata": {
        "id": "_el5AaaryX4x",
        "colab_type": "code",
        "colab": {
          "base_uri": "https://localhost:8080/",
          "height": 53
        },
        "outputId": "22652fcc-1de0-4b93-be57-98dd3f4bc6fa"
      },
      "cell_type": "code",
      "source": [
        "# 이 코드는 CUDA가 사용 가능한 환경에서만 실행합니다.\n",
        "# ``torch.device`` 를 사용하여 tensor를 GPU 안팎으로 이동해보겠습니다.\n",
        "if torch.cuda.is_available():\n",
        "    device = torch.device(\"cuda\")          # CUDA 장치 객체(Device Object)로\n",
        "    y=torch.ones_like(x, device=device)  # GPU 상에 바로(directly) tensor를 생성하거나\n",
        "    x=x.to(\"cuda\")\n",
        "    x = x.to(device)                       # 단지 ``.to(\"cuda\")`` 라고만 작성하면 됩니다.\n",
        "    z = x + y\n",
        "    print(z)\n",
        "    print(z.to(\"cpu\", torch.double))       # ``.to`` 는 dtype도 함께 변경합니다!"
      ],
      "execution_count": 63,
      "outputs": [
        {
          "output_type": "stream",
          "text": [
            "tensor([6.5000, 4.0000], device='cuda:0')\n",
            "tensor([6.5000, 4.0000], dtype=torch.float64)\n"
          ],
          "name": "stdout"
        }
      ]
    },
    {
      "metadata": {
        "id": "xsxM9eth0E0g",
        "colab_type": "code",
        "colab": {
          "base_uri": "https://localhost:8080/",
          "height": 35
        },
        "outputId": "e0c61bd1-35f2-433a-8eaf-03a964e9e90d"
      },
      "cell_type": "code",
      "source": [
        "print(x.size())"
      ],
      "execution_count": 64,
      "outputs": [
        {
          "output_type": "stream",
          "text": [
            "torch.Size([2])\n"
          ],
          "name": "stdout"
        }
      ]
    },
    {
      "metadata": {
        "id": "Pwz_dxwX0RCA",
        "colab_type": "code",
        "colab": {
          "base_uri": "https://localhost:8080/",
          "height": 197
        },
        "outputId": "29a6c2ef-7ab1-478b-eb2c-0c2f1b4fe56b"
      },
      "cell_type": "code",
      "source": [
        "x=torch.ones(5,3)\n",
        "y=torch.rand(5,3)\n",
        "print(y)\n",
        "print(x+y)"
      ],
      "execution_count": 66,
      "outputs": [
        {
          "output_type": "stream",
          "text": [
            "tensor([[0.0641, 0.5784, 0.4522],\n",
            "        [0.7446, 0.1686, 0.1579],\n",
            "        [0.8741, 0.9465, 0.8178],\n",
            "        [0.5066, 0.0355, 0.2703],\n",
            "        [0.0201, 0.6836, 0.9123]])\n",
            "tensor([[1.0641, 1.5784, 1.4522],\n",
            "        [1.7446, 1.1686, 1.1579],\n",
            "        [1.8741, 1.9465, 1.8178],\n",
            "        [1.5066, 1.0355, 1.2703],\n",
            "        [1.0201, 1.6836, 1.9123]])\n"
          ],
          "name": "stdout"
        }
      ]
    },
    {
      "metadata": {
        "id": "YAyttvwV0VSg",
        "colab_type": "code",
        "colab": {
          "base_uri": "https://localhost:8080/",
          "height": 107
        },
        "outputId": "cdcec579-1657-4eb3-8669-9719dd0d5ac2"
      },
      "cell_type": "code",
      "source": [
        "print(torch.add(x,y))"
      ],
      "execution_count": 67,
      "outputs": [
        {
          "output_type": "stream",
          "text": [
            "tensor([[1.0641, 1.5784, 1.4522],\n",
            "        [1.7446, 1.1686, 1.1579],\n",
            "        [1.8741, 1.9465, 1.8178],\n",
            "        [1.5066, 1.0355, 1.2703],\n",
            "        [1.0201, 1.6836, 1.9123]])\n"
          ],
          "name": "stdout"
        }
      ]
    },
    {
      "metadata": {
        "id": "h38cIX6L0Zi_",
        "colab_type": "code",
        "colab": {
          "base_uri": "https://localhost:8080/",
          "height": 107
        },
        "outputId": "661d38e4-cce0-4610-b466-56f3dbcb3da5"
      },
      "cell_type": "code",
      "source": [
        "torch.add(x,y,out=result)\n",
        "print(result)"
      ],
      "execution_count": 69,
      "outputs": [
        {
          "output_type": "stream",
          "text": [
            "tensor([[1.0641, 1.5784, 1.4522],\n",
            "        [1.7446, 1.1686, 1.1579],\n",
            "        [1.8741, 1.9465, 1.8178],\n",
            "        [1.5066, 1.0355, 1.2703],\n",
            "        [1.0201, 1.6836, 1.9123]])\n"
          ],
          "name": "stdout"
        }
      ]
    },
    {
      "metadata": {
        "id": "_un2iVEo0mww",
        "colab_type": "code",
        "colab": {
          "base_uri": "https://localhost:8080/",
          "height": 107
        },
        "outputId": "4b5e09a7-d352-46c8-8d9d-c11796f8fa16"
      },
      "cell_type": "code",
      "source": [
        "y.add_(x)\n",
        "print(y)"
      ],
      "execution_count": 70,
      "outputs": [
        {
          "output_type": "stream",
          "text": [
            "tensor([[1.0641, 1.5784, 1.4522],\n",
            "        [1.7446, 1.1686, 1.1579],\n",
            "        [1.8741, 1.9465, 1.8178],\n",
            "        [1.5066, 1.0355, 1.2703],\n",
            "        [1.0201, 1.6836, 1.9123]])\n"
          ],
          "name": "stdout"
        }
      ]
    },
    {
      "metadata": {
        "id": "94TtPq971IdA",
        "colab_type": "code",
        "colab": {
          "base_uri": "https://localhost:8080/",
          "height": 35
        },
        "outputId": "0acd49f3-519e-4005-f38c-a08072ad81d8"
      },
      "cell_type": "code",
      "source": [
        "print(x[:,1])"
      ],
      "execution_count": 71,
      "outputs": [
        {
          "output_type": "stream",
          "text": [
            "tensor([1., 1., 1., 1., 1.])\n"
          ],
          "name": "stdout"
        }
      ]
    },
    {
      "metadata": {
        "id": "OjqZhFSI1Oyw",
        "colab_type": "code",
        "colab": {
          "base_uri": "https://localhost:8080/",
          "height": 35
        },
        "outputId": "21ef93e0-19ed-4f3a-ab20-bfda151d0339"
      },
      "cell_type": "code",
      "source": [
        "print(x[:,2])"
      ],
      "execution_count": 72,
      "outputs": [
        {
          "output_type": "stream",
          "text": [
            "tensor([1., 1., 1., 1., 1.])\n"
          ],
          "name": "stdout"
        }
      ]
    },
    {
      "metadata": {
        "id": "4Cu45zw91S4v",
        "colab_type": "code",
        "colab": {
          "base_uri": "https://localhost:8080/",
          "height": 35
        },
        "outputId": "5d14bd69-3e48-44e5-b103-6123b5798a96"
      },
      "cell_type": "code",
      "source": [
        "print(x[:,0])"
      ],
      "execution_count": 73,
      "outputs": [
        {
          "output_type": "stream",
          "text": [
            "tensor([1., 1., 1., 1., 1.])\n"
          ],
          "name": "stdout"
        }
      ]
    },
    {
      "metadata": {
        "id": "XpwlosoN1UjA",
        "colab_type": "code",
        "colab": {
          "base_uri": "https://localhost:8080/",
          "height": 172
        },
        "outputId": "aed20cf9-73e2-4850-a483-cda182ad0f2e"
      },
      "cell_type": "code",
      "source": [
        "print(x[:,3])"
      ],
      "execution_count": 75,
      "outputs": [
        {
          "output_type": "error",
          "ename": "IndexError",
          "evalue": "ignored",
          "traceback": [
            "\u001b[0;31m\u001b[0m",
            "\u001b[0;31mIndexError\u001b[0mTraceback (most recent call last)",
            "\u001b[0;32m<ipython-input-75-ed696161be11>\u001b[0m in \u001b[0;36m<module>\u001b[0;34m()\u001b[0m\n\u001b[0;32m----> 1\u001b[0;31m \u001b[0;32mprint\u001b[0m\u001b[0;34m(\u001b[0m\u001b[0mx\u001b[0m\u001b[0;34m[\u001b[0m\u001b[0;34m:\u001b[0m\u001b[0;34m,\u001b[0m\u001b[0;36m3\u001b[0m\u001b[0;34m]\u001b[0m\u001b[0;34m)\u001b[0m\u001b[0;34m\u001b[0m\u001b[0m\n\u001b[0m",
            "\u001b[0;31mIndexError\u001b[0m: index 3 is out of bounds for dimension 1 with size 3"
          ]
        }
      ]
    },
    {
      "metadata": {
        "id": "yTMBY7EZ6C5E",
        "colab_type": "code",
        "colab": {
          "base_uri": "https://localhost:8080/",
          "height": 71
        },
        "outputId": "24a1923c-e52a-44d6-e768-9f5a0f149b49"
      },
      "cell_type": "code",
      "source": [
        "a=torch.ones(5)\n",
        "print(a)\n",
        "b=a.numpy()\n",
        "print(b)\n",
        "c=torch.from_numpy(b)\n",
        "print(c)"
      ],
      "execution_count": 77,
      "outputs": [
        {
          "output_type": "stream",
          "text": [
            "tensor([1., 1., 1., 1., 1.])\n",
            "[1. 1. 1. 1. 1.]\n",
            "tensor([1., 1., 1., 1., 1.])\n"
          ],
          "name": "stdout"
        }
      ]
    },
    {
      "metadata": {
        "id": "SqVQF_pz6HIj",
        "colab_type": "code",
        "colab": {
          "base_uri": "https://localhost:8080/",
          "height": 53
        },
        "outputId": "d0693fc9-1957-4a07-d501-a8c8e0f61652"
      },
      "cell_type": "code",
      "source": [
        "a.add_(1)\n",
        "print(a)\n",
        "print(a.numpy())"
      ],
      "execution_count": 79,
      "outputs": [
        {
          "output_type": "stream",
          "text": [
            "tensor([3., 3., 3., 3., 3.])\n",
            "[3. 3. 3. 3. 3.]\n"
          ],
          "name": "stdout"
        }
      ]
    },
    {
      "metadata": {
        "id": "MQboy9hRDxxU",
        "colab_type": "code",
        "colab": {
          "base_uri": "https://localhost:8080/",
          "height": 197
        },
        "outputId": "32106723-a2f0-4bf3-d67c-fbfc4aab6660"
      },
      "cell_type": "code",
      "source": [
        "if torch.cuda.is_available():\n",
        "  device=torch.device(\"cuda\")\n",
        "  y=torch.ones_like(x, device=device)\n",
        "  x=x.to(device)\n",
        "  z=x+y\n",
        "  print(z)\n",
        "  print(z.to(\"cpu\",torch.double))"
      ],
      "execution_count": 80,
      "outputs": [
        {
          "output_type": "stream",
          "text": [
            "tensor([[2., 2., 2.],\n",
            "        [2., 2., 2.],\n",
            "        [2., 2., 2.],\n",
            "        [2., 2., 2.],\n",
            "        [2., 2., 2.]], device='cuda:0')\n",
            "tensor([[2., 2., 2.],\n",
            "        [2., 2., 2.],\n",
            "        [2., 2., 2.],\n",
            "        [2., 2., 2.],\n",
            "        [2., 2., 2.]], dtype=torch.float64)\n"
          ],
          "name": "stdout"
        }
      ]
    },
    {
      "metadata": {
        "id": "yuzd3YvIEOYD",
        "colab_type": "code",
        "colab": {}
      },
      "cell_type": "code",
      "source": [
        ""
      ],
      "execution_count": 0,
      "outputs": []
    }
  ]
}