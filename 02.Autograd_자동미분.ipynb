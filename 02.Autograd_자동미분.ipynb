{
  "nbformat": 4,
  "nbformat_minor": 0,
  "metadata": {
    "colab": {
      "name": "TensorFlow with GPU",
      "version": "0.3.2",
      "provenance": [],
      "collapsed_sections": [],
      "include_colab_link": true
    },
    "kernelspec": {
      "name": "python2",
      "display_name": "Python 2"
    },
    "accelerator": "GPU"
  },
  "cells": [
    {
      "cell_type": "markdown",
      "metadata": {
        "id": "view-in-github",
        "colab_type": "text"
      },
      "source": [
        "[View in Colaboratory](https://colab.research.google.com/github/sabumjung/smartfactory/blob/master/02.Autograd_%EC%9E%90%EB%8F%99%EB%AF%B8%EB%B6%84.ipynb)"
      ]
    },
    {
      "metadata": {
        "id": "yuzd3YvIEOYD",
        "colab_type": "code",
        "colab": {}
      },
      "cell_type": "code",
      "source": [
        "import torch"
      ],
      "execution_count": 0,
      "outputs": []
    },
    {
      "metadata": {
        "id": "HJl2042tYfrR",
        "colab_type": "code",
        "colab": {
          "base_uri": "https://localhost:8080/",
          "height": 53
        },
        "outputId": "714d2372-b777-4b68-8ef2-a9370104f7c5"
      },
      "cell_type": "code",
      "source": [
        "x=torch.ones(2,2,requires_grad=True)\n",
        "print(x)"
      ],
      "execution_count": 83,
      "outputs": [
        {
          "output_type": "stream",
          "text": [
            "tensor([[1., 1.],\n",
            "        [1., 1.]], requires_grad=True)\n"
          ],
          "name": "stdout"
        }
      ]
    },
    {
      "metadata": {
        "id": "sAqbAnAAYkIB",
        "colab_type": "code",
        "colab": {
          "base_uri": "https://localhost:8080/",
          "height": 53
        },
        "outputId": "c6493adb-28ed-4bfc-f533-5f6432ca7f3b"
      },
      "cell_type": "code",
      "source": [
        "y=x+2\n",
        "print(y)"
      ],
      "execution_count": 84,
      "outputs": [
        {
          "output_type": "stream",
          "text": [
            "tensor([[3., 3.],\n",
            "        [3., 3.]], grad_fn=<AddBackward>)\n"
          ],
          "name": "stdout"
        }
      ]
    },
    {
      "metadata": {
        "id": "B0RNvEj3Yl5w",
        "colab_type": "code",
        "colab": {
          "base_uri": "https://localhost:8080/",
          "height": 35
        },
        "outputId": "f2561fa6-e52f-454d-85f4-d9d34002953f"
      },
      "cell_type": "code",
      "source": [
        "#y는 연산의 결과로 생성됨 -> grad_fn을 갖는다.\n",
        "print(y.grad_fn)"
      ],
      "execution_count": 85,
      "outputs": [
        {
          "output_type": "stream",
          "text": [
            "<AddBackward object at 0x7f6fa2f5d310>\n"
          ],
          "name": "stdout"
        }
      ]
    },
    {
      "metadata": {
        "id": "-AzIxfYsYvjA",
        "colab_type": "code",
        "colab": {
          "base_uri": "https://localhost:8080/",
          "height": 53
        },
        "outputId": "faefe88b-b675-47e6-c165-f8f56329a481"
      },
      "cell_type": "code",
      "source": [
        "z=y*y*3\n",
        "out=z.mean()\n",
        "print(z, out)"
      ],
      "execution_count": 86,
      "outputs": [
        {
          "output_type": "stream",
          "text": [
            "tensor([[27., 27.],\n",
            "        [27., 27.]], grad_fn=<MulBackward>) tensor(27., grad_fn=<MeanBackward1>)\n"
          ],
          "name": "stdout"
        }
      ]
    },
    {
      "metadata": {
        "id": "m2BDayX9Yyow",
        "colab_type": "code",
        "colab": {
          "base_uri": "https://localhost:8080/",
          "height": 35
        },
        "outputId": "362f8aec-07b0-4f11-d6fe-194ac7b47998"
      },
      "cell_type": "code",
      "source": [
        "a=torch.randn(2,2)\n",
        "a=((a*3)/(a-1))\n",
        "print(a.requires_grad)"
      ],
      "execution_count": 87,
      "outputs": [
        {
          "output_type": "stream",
          "text": [
            "False\n"
          ],
          "name": "stdout"
        }
      ]
    },
    {
      "metadata": {
        "id": "TEVRNtlcZHZ-",
        "colab_type": "code",
        "colab": {
          "base_uri": "https://localhost:8080/",
          "height": 35
        },
        "outputId": "c5b8d409-8f47-4633-d0c3-6cca68c3b10e"
      },
      "cell_type": "code",
      "source": [
        "a.requires_grad_(True)\n",
        "print(a.requires_grad)"
      ],
      "execution_count": 88,
      "outputs": [
        {
          "output_type": "stream",
          "text": [
            "True\n"
          ],
          "name": "stdout"
        }
      ]
    },
    {
      "metadata": {
        "id": "Q2jcbSlBZNQg",
        "colab_type": "code",
        "colab": {
          "base_uri": "https://localhost:8080/",
          "height": 35
        },
        "outputId": "bd2c0bb9-88ac-4299-dc50-53667cfc1f06"
      },
      "cell_type": "code",
      "source": [
        "b=(a*a).sum()\n",
        "print(b.grad_fn)"
      ],
      "execution_count": 90,
      "outputs": [
        {
          "output_type": "stream",
          "text": [
            "<SumBackward0 object at 0x7f6fa2f5de10>\n"
          ],
          "name": "stdout"
        }
      ]
    },
    {
      "metadata": {
        "id": "aSpH1C7rZQc_",
        "colab_type": "code",
        "colab": {
          "base_uri": "https://localhost:8080/",
          "height": 53
        },
        "outputId": "c5e126b7-2e8f-48e6-b57f-9e327458850b"
      },
      "cell_type": "code",
      "source": [
        "out.backward()\n",
        "print(x.grad)"
      ],
      "execution_count": 91,
      "outputs": [
        {
          "output_type": "stream",
          "text": [
            "tensor([[4.5000, 4.5000],\n",
            "        [4.5000, 4.5000]])\n"
          ],
          "name": "stdout"
        }
      ]
    },
    {
      "metadata": {
        "id": "vbhld0fyZYqO",
        "colab_type": "code",
        "colab": {
          "base_uri": "https://localhost:8080/",
          "height": 35
        },
        "outputId": "0050b9aa-aca6-4e33-efca-a5b6f48f5639"
      },
      "cell_type": "code",
      "source": [
        "x=torch.randn(3, requires_grad=True)\n",
        "y=x*2\n",
        "while y.data.norm()<10000:\n",
        "  y=y+2\n",
        "print(y)"
      ],
      "execution_count": 92,
      "outputs": [
        {
          "output_type": "stream",
          "text": [
            "tensor([5778.7852, 5773.3359, 5774.2944], grad_fn=<AddBackward>)\n"
          ],
          "name": "stdout"
        }
      ]
    },
    {
      "metadata": {
        "id": "pF_MGmo4a_LK",
        "colab_type": "code",
        "colab": {
          "base_uri": "https://localhost:8080/",
          "height": 35
        },
        "outputId": "727e431d-caab-4469-f3a9-365ed4626667"
      },
      "cell_type": "code",
      "source": [
        "gradients=torch.tensor([0.1, 1.0, 0.001], dtype=torch.float)\n",
        "y.backward(gradients)\n",
        "print(x.grad)"
      ],
      "execution_count": 93,
      "outputs": [
        {
          "output_type": "stream",
          "text": [
            "tensor([0.2000, 2.0000, 0.0020])\n"
          ],
          "name": "stdout"
        }
      ]
    },
    {
      "metadata": {
        "id": "w1DZIBtBbKi6",
        "colab_type": "code",
        "colab": {
          "base_uri": "https://localhost:8080/",
          "height": 71
        },
        "outputId": "1c8e923d-0b12-4d2a-b198-049a42399b73"
      },
      "cell_type": "code",
      "source": [
        "print(x.requires_grad)\n",
        "print((x**2).requires_grad)\n",
        "\n",
        "with torch.no_grad():\n",
        "  print((x**2).requires_grad)"
      ],
      "execution_count": 94,
      "outputs": [
        {
          "output_type": "stream",
          "text": [
            "True\n",
            "True\n",
            "False\n"
          ],
          "name": "stdout"
        }
      ]
    },
    {
      "metadata": {
        "id": "xZ-aHmqRbj3I",
        "colab_type": "code",
        "colab": {}
      },
      "cell_type": "code",
      "source": [
        ""
      ],
      "execution_count": 0,
      "outputs": []
    }
  ]
}